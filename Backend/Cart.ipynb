{
 "cells": [
  {
   "cell_type": "code",
   "execution_count": null,
   "id": "77e93ba2",
   "metadata": {},
   "outputs": [],
   "source": [
    "import time"
   ]
  },
  {
   "cell_type": "code",
   "execution_count": null,
   "id": "e1cc4967",
   "metadata": {},
   "outputs": [],
   "source": [
    "selected_products = [\"Product1\", \"Product2\", \"Product3\"]"
   ]
  },
  {
   "cell_type": "code",
   "execution_count": null,
   "id": "a89c2b75",
   "metadata": {},
   "outputs": [],
   "source": [
    "def add_to_cart(products):\n",
    "    # Simulate the process of adding products to the cart\n",
    "    print(\"Adding the following products to the cart:\")\n",
    "    for product in products:\n",
    "        print(product)\n",
    "    \n",
    "    # You can add your cart handling logic here\n",
    "    # For example, use a shopping cart library or update a database\n",
    "    \n",
    "    print(\"Products added to the cart successfully.\")"
   ]
  },
  {
   "cell_type": "code",
   "execution_count": null,
   "id": "c1160aee",
   "metadata": {},
   "outputs": [],
   "source": [
    "while True:\n",
    "    add_to_cart(selected_products)\n",
    "    print(\"Waiting for 28 days...\")\n",
    "    time.sleep(10)  # Sleep for 28 days (in seconds)"
   ]
  },
  {
   "cell_type": "code",
   "execution_count": null,
   "id": "189728ef",
   "metadata": {},
   "outputs": [],
   "source": [
    "    "
   ]
  }
 ],
 "metadata": {
  "kernelspec": {
   "display_name": "Python 3 (ipykernel)",
   "language": "python",
   "name": "python3"
  },
  "language_info": {
   "codemirror_mode": {
    "name": "ipython",
    "version": 3
   },
   "file_extension": ".py",
   "mimetype": "text/x-python",
   "name": "python",
   "nbconvert_exporter": "python",
   "pygments_lexer": "ipython3",
   "version": "3.11.5"
  }
 },
 "nbformat": 4,
 "nbformat_minor": 5
}
