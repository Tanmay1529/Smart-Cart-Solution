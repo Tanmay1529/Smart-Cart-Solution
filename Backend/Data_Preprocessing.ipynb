{
 "cells": [
  {
   "cell_type": "code",
   "execution_count": null,
   "id": "12c250db",
   "metadata": {},
   "outputs": [],
   "source": [
    "import pandas as pd"
   ]
  },
  {
   "cell_type": "markdown",
   "id": "5f316606",
   "metadata": {},
   "source": [
    "#### Load customer purchase data from a CSV file"
   ]
  },
  {
   "cell_type": "code",
   "execution_count": null,
   "id": "1c3ab4bf",
   "metadata": {},
   "outputs": [],
   "source": [
    "data = pd.read_csv(\"Customer_Purchase\\online_retail.csv\")"
   ]
  },
  {
   "cell_type": "markdown",
   "id": "883ab21c",
   "metadata": {},
   "source": [
    "#### Step 1: Keep the required columns"
   ]
  },
  {
   "cell_type": "code",
   "execution_count": null,
   "id": "a4cb1014",
   "metadata": {},
   "outputs": [],
   "source": [
    "data = data[['Customer ID', 'InvoiceDate', 'Description', 'Quantity', 'Price']]"
   ]
  },
  {
   "cell_type": "markdown",
   "id": "63ccf287",
   "metadata": {},
   "source": [
    "#### Step 2: Set the column names according to convenience "
   ]
  },
  {
   "cell_type": "code",
   "execution_count": null,
   "id": "3326dbdf",
   "metadata": {},
   "outputs": [],
   "source": [
    "data.rename(columns = {'Description':'Product_Name', 'InvoiceDate':'Purchase_Date', 'Customer ID': 'Customer_ID'}, inplace = True)"
   ]
  },
  {
   "cell_type": "markdown",
   "id": "b62f2020",
   "metadata": {},
   "source": [
    "#### Step 3: Convert Purchase Date to a datetime format"
   ]
  },
  {
   "cell_type": "code",
   "execution_count": null,
   "id": "32569515",
   "metadata": {},
   "outputs": [],
   "source": [
    "data['Purchase_Date'] = pd.to_datetime(data['Purchase_Date'])"
   ]
  },
  {
   "cell_type": "markdown",
   "id": "74469e5a",
   "metadata": {},
   "source": [
    "#### Step 4: Remove duplicates"
   ]
  },
  {
   "cell_type": "code",
   "execution_count": null,
   "id": "db9240f3",
   "metadata": {},
   "outputs": [],
   "source": [
    "data = data.drop_duplicates()"
   ]
  },
  {
   "cell_type": "markdown",
   "id": "e50001ec",
   "metadata": {},
   "source": [
    "#### Step 5: Handle missing data\n",
    "#### Fill missing Quantity values with the mean"
   ]
  },
  {
   "cell_type": "code",
   "execution_count": null,
   "id": "f1c3a817",
   "metadata": {},
   "outputs": [],
   "source": [
    "data['Quantity'].fillna(data['Quantity'].mean(), inplace=True)"
   ]
  },
  {
   "cell_type": "markdown",
   "id": "32b638f8",
   "metadata": {},
   "source": [
    "#### Step 6: Normalize product names"
   ]
  },
  {
   "cell_type": "code",
   "execution_count": null,
   "id": "63dee557",
   "metadata": {},
   "outputs": [],
   "source": [
    "data['Product_Name'] = data['Product_Name'].str.lower()"
   ]
  },
  {
   "cell_type": "markdown",
   "id": "eef50a5b",
   "metadata": {},
   "source": [
    "#### Step 7: Save the processed data to csv"
   ]
  },
  {
   "cell_type": "code",
   "execution_count": null,
   "id": "0f4ef7d4",
   "metadata": {},
   "outputs": [],
   "source": [
    "data.to_csv('purchase_history.csv')"
   ]
  },
  {
   "cell_type": "markdown",
   "id": "8e511e03",
   "metadata": {},
   "source": [
    "#### Step 8: Aggregate data to create a six-month purchase history for each customer"
   ]
  },
  {
   "cell_type": "code",
   "execution_count": null,
   "id": "56e287c5",
   "metadata": {},
   "outputs": [],
   "source": [
    "purchase_history = data.groupby(['Customer_ID', pd.Grouper(key='Purchase_Date', freq='M')])['Product_Name'].count().unstack().fillna(0)"
   ]
  },
  {
   "cell_type": "markdown",
   "id": "84737ab4",
   "metadata": {},
   "source": [
    "#### Step 9: Reset the index and convert NaN values to 0"
   ]
  },
  {
   "cell_type": "code",
   "execution_count": null,
   "id": "892a237a",
   "metadata": {},
   "outputs": [],
   "source": [
    "purchase_history.reset_index(inplace=True)\n",
    "purchase_history.fillna(0, inplace=True)"
   ]
  },
  {
   "cell_type": "markdown",
   "id": "21244027",
   "metadata": {},
   "source": [
    "#### Display the processed data"
   ]
  },
  {
   "cell_type": "code",
   "execution_count": null,
   "id": "9790df82",
   "metadata": {},
   "outputs": [],
   "source": [
    "purchase_history"
   ]
  },
  {
   "cell_type": "code",
   "execution_count": null,
   "id": "69e1685d",
   "metadata": {},
   "outputs": [],
   "source": []
  }
 ],
 "metadata": {
  "kernelspec": {
   "display_name": "Python 3 (ipykernel)",
   "language": "python",
   "name": "python3"
  },
  "language_info": {
   "codemirror_mode": {
    "name": "ipython",
    "version": 3
   },
   "file_extension": ".py",
   "mimetype": "text/x-python",
   "name": "python",
   "nbconvert_exporter": "python",
   "pygments_lexer": "ipython3",
   "version": "3.11.5"
  }
 },
 "nbformat": 4,
 "nbformat_minor": 5
}
