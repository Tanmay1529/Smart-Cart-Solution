{
 "cells": [
  {
   "cell_type": "markdown",
   "id": "b691ac88",
   "metadata": {},
   "source": [
    "#### Import required libraries"
   ]
  },
  {
   "cell_type": "code",
   "execution_count": null,
   "id": "d9490ed3",
   "metadata": {
    "scrolled": true
   },
   "outputs": [],
   "source": [
    "import pandas as pd\n",
    "from surprise import Dataset, Reader, KNNBasic\n",
    "from surprise.model_selection import train_test_split\n",
    "from surprise import accuracy\n",
    "from surprise import SVD"
   ]
  },
  {
   "cell_type": "markdown",
   "id": "5c05093c",
   "metadata": {},
   "source": [
    "#### Load the preprocessed purchase history data"
   ]
  },
  {
   "cell_type": "code",
   "execution_count": null,
   "id": "786737f1",
   "metadata": {},
   "outputs": [],
   "source": [
    "data = pd.read_csv('purchase_history.csv')"
   ]
  },
  {
   "cell_type": "markdown",
   "id": "384cd827",
   "metadata": {},
   "source": [
    "#### Define a Reader object to specify the rating scale"
   ]
  },
  {
   "cell_type": "code",
   "execution_count": null,
   "id": "d08a1abb",
   "metadata": {},
   "outputs": [],
   "source": [
    "reader = Reader(rating_scale=(0, 5))"
   ]
  },
  {
   "cell_type": "markdown",
   "id": "9fb5b160",
   "metadata": {},
   "source": [
    "#### Load the data into the Surprise Dataset"
   ]
  },
  {
   "cell_type": "code",
   "execution_count": null,
   "id": "f6ac2714",
   "metadata": {},
   "outputs": [],
   "source": [
    "dataset = Dataset.load_from_df(data[['Customer_ID', 'Product_Name', 'Quantity']], reader)"
   ]
  },
  {
   "cell_type": "markdown",
   "id": "efe6682a",
   "metadata": {},
   "source": [
    "#### Split the data into training and testing sets\n"
   ]
  },
  {
   "cell_type": "code",
   "execution_count": null,
   "id": "4f2498e0",
   "metadata": {},
   "outputs": [],
   "source": [
    "trainset, testset = train_test_split(dataset, test_size=0.2)"
   ]
  },
  {
   "cell_type": "markdown",
   "id": "fab12803",
   "metadata": {},
   "source": [
    "#### Select a recommendation model "
   ]
  },
  {
   "cell_type": "code",
   "execution_count": null,
   "id": "6201cc00",
   "metadata": {},
   "outputs": [],
   "source": [
    "model = SVD()"
   ]
  },
  {
   "cell_type": "markdown",
   "id": "17b9a414",
   "metadata": {},
   "source": [
    "#### Train the model on the training set\n"
   ]
  },
  {
   "cell_type": "code",
   "execution_count": null,
   "id": "f319533f",
   "metadata": {},
   "outputs": [],
   "source": [
    "model.fit(trainset)"
   ]
  },
  {
   "cell_type": "markdown",
   "id": "7668752c",
   "metadata": {},
   "source": [
    "#### Make predictions on the test set\n"
   ]
  },
  {
   "cell_type": "code",
   "execution_count": null,
   "id": "59cee983",
   "metadata": {},
   "outputs": [],
   "source": [
    "predictions = model.test(testset)"
   ]
  },
  {
   "cell_type": "markdown",
   "id": "40892d0c",
   "metadata": {},
   "source": [
    "####  Print predictions"
   ]
  },
  {
   "cell_type": "code",
   "execution_count": null,
   "id": "9ff7247e",
   "metadata": {},
   "outputs": [],
   "source": [
    "for i in range(5000):\n",
    "    prediction = predictions[i]\n",
    "    print(f\"User: {prediction.uid}, Product: {prediction.iid}, Predicted Quantity: {prediction.est}\")"
   ]
  },
  {
   "cell_type": "markdown",
   "id": "3c2e34cf",
   "metadata": {},
   "source": [
    "#### Evaluate the model's performance "
   ]
  },
  {
   "cell_type": "code",
   "execution_count": null,
   "id": "d7bf8f4b",
   "metadata": {},
   "outputs": [],
   "source": [
    "rmse = accuracy.rmse(predictions)"
   ]
  },
  {
   "cell_type": "markdown",
   "id": "65533d1d",
   "metadata": {},
   "source": [
    "#### Generate recommendations for a user"
   ]
  },
  {
   "cell_type": "code",
   "execution_count": null,
   "id": "4ffe8142",
   "metadata": {},
   "outputs": [],
   "source": [
    "user_id  = '15325.0'"
   ]
  },
  {
   "cell_type": "code",
   "execution_count": null,
   "id": "ff3f77b0",
   "metadata": {},
   "outputs": [],
   "source": [
    "predictions = [model.predict(user_id, product_id) for product_id in trainset.all_items()]"
   ]
  },
  {
   "cell_type": "code",
   "execution_count": null,
   "id": "182da1fd",
   "metadata": {},
   "outputs": [],
   "source": [
    "predictions.sort(key=lambda x: x.est, reverse=True)"
   ]
  },
  {
   "cell_type": "markdown",
   "id": "1563d740",
   "metadata": {},
   "source": [
    "#### Get the top 5 recommendations"
   ]
  },
  {
   "cell_type": "code",
   "execution_count": null,
   "id": "2e6c602f",
   "metadata": {},
   "outputs": [],
   "source": [
    "top_n = predictions[:5]"
   ]
  },
  {
   "cell_type": "code",
   "execution_count": null,
   "id": "47791f42",
   "metadata": {},
   "outputs": [],
   "source": [
    "for prediction in top_n:\n",
    "    product_id = prediction.iid\n",
    "    estimated_rating = prediction.est\n",
    "    matching_products = data[data['Quantity'] == product_id]\n",
    "    if not matching_products.empty:\n",
    "        product_name = matching_products.iloc[0]['Product_Name']\n",
    "        print(f\"Product: {product_name}, Estimated Rating: {estimated_rating}\")\n",
    "    else:\n",
    "        print(f\"Product not found for ProductID: {product_id}\")"
   ]
  },
  {
   "cell_type": "code",
   "execution_count": null,
   "id": "0852feba",
   "metadata": {},
   "outputs": [],
   "source": []
  }
 ],
 "metadata": {
  "kernelspec": {
   "display_name": "Python 3 (ipykernel)",
   "language": "python",
   "name": "python3"
  },
  "language_info": {
   "codemirror_mode": {
    "name": "ipython",
    "version": 3
   },
   "file_extension": ".py",
   "mimetype": "text/x-python",
   "name": "python",
   "nbconvert_exporter": "python",
   "pygments_lexer": "ipython3",
   "version": "3.11.5"
  }
 },
 "nbformat": 4,
 "nbformat_minor": 5
}
